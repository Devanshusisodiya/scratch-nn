{
 "cells": [
  {
   "cell_type": "code",
   "execution_count": 1,
   "metadata": {
    "_cell_guid": "b1076dfc-b9ad-4769-8c92-a6c4dae69d19",
    "_uuid": "8f2839f25d086af736a60e9eeb907d3b93b6e0e5",
    "execution": {
     "iopub.execute_input": "2020-11-24T15:33:44.617819Z",
     "iopub.status.busy": "2020-11-24T15:33:44.616734Z",
     "iopub.status.idle": "2020-11-24T15:33:48.545917Z",
     "shell.execute_reply": "2020-11-24T15:33:48.545192Z"
    },
    "papermill": {
     "duration": 3.947576,
     "end_time": "2020-11-24T15:33:48.546057",
     "exception": false,
     "start_time": "2020-11-24T15:33:44.598481",
     "status": "completed"
    },
    "tags": []
   },
   "outputs": [],
   "source": [
    "import numpy as np\n",
    "import pandas as pd\n",
    "from matplotlib import pyplot as plt\n",
    "\n",
    "data = pd.read_csv('../datasets/mnist/mnist_train.csv')"
   ]
  },
  {
   "cell_type": "code",
   "execution_count": 2,
   "metadata": {
    "execution": {
     "iopub.execute_input": "2020-11-24T15:33:48.577955Z",
     "iopub.status.busy": "2020-11-24T15:33:48.576778Z",
     "iopub.status.idle": "2020-11-24T15:33:49.353469Z",
     "shell.execute_reply": "2020-11-24T15:33:49.352724Z"
    },
    "papermill": {
     "duration": 0.795759,
     "end_time": "2020-11-24T15:33:49.353603",
     "exception": false,
     "start_time": "2020-11-24T15:33:48.557844",
     "status": "completed"
    },
    "tags": []
   },
   "outputs": [],
   "source": [
    "data = np.array(data)\n",
    "m, n = data.shape\n",
    "np.random.shuffle(data) # shuffle before splitting into dev and training sets\n",
    "\n",
    "data_dev = data[0:1000].T\n",
    "Y_dev = data_dev[0]\n",
    "X_dev = data_dev[1:n]\n",
    "X_dev = X_dev / 255.\n",
    "\n",
    "data_train = data[1000:m].T\n",
    "Y_train = data_train[0]\n",
    "X_train = data_train[1:n]\n",
    "X_train = X_train / 255.\n",
    "_,m_train = X_train.shape"
   ]
  },
  {
   "cell_type": "code",
   "execution_count": 3,
   "metadata": {
    "execution": {
     "iopub.execute_input": "2020-11-24T15:33:49.385574Z",
     "iopub.status.busy": "2020-11-24T15:33:49.384483Z",
     "iopub.status.idle": "2020-11-24T15:33:49.388342Z",
     "shell.execute_reply": "2020-11-24T15:33:49.388923Z"
    },
    "papermill": {
     "duration": 0.023743,
     "end_time": "2020-11-24T15:33:49.389054",
     "exception": false,
     "start_time": "2020-11-24T15:33:49.365311",
     "status": "completed"
    },
    "tags": []
   },
   "outputs": [
    {
     "data": {
      "text/plain": [
       "array([6, 5, 1, ..., 6, 9, 3], dtype=int64)"
      ]
     },
     "execution_count": 3,
     "metadata": {},
     "output_type": "execute_result"
    }
   ],
   "source": [
    "Y_train"
   ]
  },
  {
   "cell_type": "code",
   "execution_count": 8,
   "metadata": {
    "execution": {
     "iopub.execute_input": "2020-11-24T15:33:49.458553Z",
     "iopub.status.busy": "2020-11-24T15:33:49.457534Z",
     "iopub.status.idle": "2020-11-24T15:33:49.460243Z",
     "shell.execute_reply": "2020-11-24T15:33:49.460754Z"
    },
    "papermill": {
     "duration": 0.035762,
     "end_time": "2020-11-24T15:33:49.460906",
     "exception": false,
     "start_time": "2020-11-24T15:33:49.425144",
     "status": "completed"
    },
    "tags": []
   },
   "outputs": [],
   "source": [
    "def init_params():\n",
    "    W1 = np.random.rand(128, 784) - 0.5\n",
    "    b1 = np.random.rand(128, 1) - 0.5\n",
    "    W2 = np.random.rand(10, 128) - 0.5\n",
    "    b2 = np.random.rand(10, 1) - 0.5\n",
    "    return W1, b1, W2, b2\n",
    "\n",
    "def ReLU(Z):\n",
    "    return np.maximum(Z, 0)\n",
    "\n",
    "def softmax(Z):\n",
    "    A = np.exp(Z) / sum(np.exp(Z))\n",
    "    return A\n",
    "    \n",
    "def forward_prop(W1, b1, W2, b2, X):\n",
    "    Z1 = W1.dot(X) + b1\n",
    "    A1 = ReLU(Z1)\n",
    "    Z2 = W2.dot(A1) + b2\n",
    "    A2 = softmax(Z2)\n",
    "    return Z1, A1, Z2, A2\n",
    "\n",
    "def ReLU_deriv(Z):\n",
    "    return Z > 0\n",
    "\n",
    "def one_hot(Y):\n",
    "    one_hot_Y = np.zeros((Y.size, Y.max() + 1))\n",
    "    one_hot_Y[np.arange(Y.size), Y] = 1\n",
    "    one_hot_Y = one_hot_Y.T\n",
    "    return one_hot_Y\n",
    "\n",
    "def backward_prop(Z1, A1, Z2, A2, W1, W2, X, Y):\n",
    "    one_hot_Y = one_hot(Y)\n",
    "    dZ2 = A2 - one_hot_Y\n",
    "    dW2 = 1 / m * dZ2.dot(A1.T)\n",
    "    db2 = 1 / m * np.sum(dZ2)\n",
    "    dZ1 = W2.T.dot(dZ2) * ReLU_deriv(Z1)\n",
    "    dW1 = 1 / m * dZ1.dot(X.T)\n",
    "    db1 = 1 / m * np.sum(dZ1)\n",
    "    return dW1, db1, dW2, db2\n",
    "\n",
    "def update_params(W1, b1, W2, b2, dW1, db1, dW2, db2, alpha):\n",
    "    W1 = W1 - alpha * dW1\n",
    "    b1 = b1 - alpha * db1    \n",
    "    W2 = W2 - alpha * dW2  \n",
    "    b2 = b2 - alpha * db2    \n",
    "    return W1, b1, W2, b2"
   ]
  },
  {
   "cell_type": "code",
   "execution_count": 29,
   "metadata": {
    "execution": {
     "iopub.execute_input": "2020-11-24T15:33:49.496820Z",
     "iopub.status.busy": "2020-11-24T15:33:49.493109Z",
     "iopub.status.idle": "2020-11-24T15:33:49.499268Z",
     "shell.execute_reply": "2020-11-24T15:33:49.499782Z"
    },
    "papermill": {
     "duration": 0.026744,
     "end_time": "2020-11-24T15:33:49.499906",
     "exception": false,
     "start_time": "2020-11-24T15:33:49.473162",
     "status": "completed"
    },
    "tags": []
   },
   "outputs": [],
   "source": [
    "def get_predictions(A2):\n",
    "    return np.argmax(A2, 0)\n",
    "\n",
    "def get_accuracy(predictions, Y):\n",
    "    print(predictions, Y)\n",
    "    return np.sum(predictions == Y) / Y.size\n",
    "\n",
    "def gradient_descent(X, Y, alpha, iterations):\n",
    "    accuracy = []\n",
    "    W1, b1, W2, b2 = init_params()\n",
    "    for i in range(iterations):\n",
    "        Z1, A1, Z2, A2 = forward_prop(W1, b1, W2, b2, X)\n",
    "        dW1, db1, dW2, db2 = backward_prop(Z1, A1, Z2, A2, W1, W2, X, Y)\n",
    "        W1, b1, W2, b2 = update_params(W1, b1, W2, b2, dW1, db1, dW2, db2, alpha)\n",
    "        if i % 10 == 0:\n",
    "            print(\"Iteration: \", i)\n",
    "            predictions = get_predictions(A2)\n",
    "            print(get_accuracy(predictions, Y))\n",
    "            accuracy.append(get_accuracy(predictions, Y))\n",
    "    return W1, b1, W2, b2, accuracy\n",
    "\n",
    "def gradient_descent_wm(X, Y, alpha, beta, iterations):\n",
    "    accuracy = []\n",
    "    W1, b1, W2, b2 = init_params()\n",
    "    vdW1, vdb1, vdW2, vdb2 = np.zeros(W1.shape), np.zeros(b1.shape), np.zeros(W2.shape), np.zeros(b2.shape)\n",
    "    for i in range(iterations):\n",
    "        Z1, A1, Z2, A2 = forward_prop(W1, b1, W2, b2, X)\n",
    "        dW1, db1, dW2, db2 = backward_prop(Z1, A1, Z2, A2, W1, W2, X, Y)\n",
    "        \n",
    "        vdW1 = beta*vdW1 + (1-beta)*dW1\n",
    "        vdb1 = beta*vdb1 + (1-beta)*db1\n",
    "        vdW2 = beta*vdW2 + (1-beta)*dW2\n",
    "        vdb2 = beta*vdb2 + (1-beta)*db2\n",
    "        \n",
    "        W1, b1, W2, b2 = update_params(W1, b1, W2, b2, vdW1, vdb1, vdW2, vdb2, alpha)\n",
    "        if i % 10 == 0:\n",
    "            print(\"Iteration: \", i)\n",
    "            predictions = get_predictions(A2)\n",
    "            print(get_accuracy(predictions, Y))\n",
    "            accuracy.append(get_accuracy(predictions, Y))\n",
    "    return W1, b1, W2, b2, accuracy"
   ]
  },
  {
   "cell_type": "code",
   "execution_count": 32,
   "metadata": {
    "execution": {
     "iopub.execute_input": "2020-11-24T15:33:49.529813Z",
     "iopub.status.busy": "2020-11-24T15:33:49.529067Z",
     "iopub.status.idle": "2020-11-24T15:34:33.915250Z",
     "shell.execute_reply": "2020-11-24T15:34:33.914598Z"
    },
    "papermill": {
     "duration": 44.403186,
     "end_time": "2020-11-24T15:34:33.915380",
     "exception": false,
     "start_time": "2020-11-24T15:33:49.512194",
     "status": "completed"
    },
    "tags": []
   },
   "outputs": [
    {
     "name": "stdout",
     "output_type": "stream",
     "text": [
      "Iteration:  0\n",
      "[5 9 5 ... 9 5 9] [6 5 1 ... 6 9 3]\n",
      "0.08445762711864407\n",
      "[5 9 5 ... 9 5 9] [6 5 1 ... 6 9 3]\n",
      "Iteration:  10\n",
      "[6 7 3 ... 6 3 2] [6 5 1 ... 6 9 3]\n",
      "0.27471186440677964\n",
      "[6 7 3 ... 6 3 2] [6 5 1 ... 6 9 3]\n",
      "Iteration:  20\n",
      "[6 0 1 ... 6 8 2] [6 5 1 ... 6 9 3]\n",
      "0.5478983050847458\n",
      "[6 0 1 ... 6 8 2] [6 5 1 ... 6 9 3]\n",
      "Iteration:  30\n",
      "[6 5 1 ... 6 9 2] [6 5 1 ... 6 9 3]\n",
      "0.6432033898305085\n",
      "[6 5 1 ... 6 9 2] [6 5 1 ... 6 9 3]\n",
      "Iteration:  40\n",
      "[6 0 1 ... 6 7 2] [6 5 1 ... 6 9 3]\n",
      "0.7127118644067797\n",
      "[6 0 1 ... 6 7 2] [6 5 1 ... 6 9 3]\n",
      "Iteration:  50\n",
      "[6 0 1 ... 6 7 2] [6 5 1 ... 6 9 3]\n",
      "0.7449152542372881\n",
      "[6 0 1 ... 6 7 2] [6 5 1 ... 6 9 3]\n",
      "Iteration:  60\n",
      "[6 5 1 ... 6 9 2] [6 5 1 ... 6 9 3]\n",
      "0.7692881355932203\n",
      "[6 5 1 ... 6 9 2] [6 5 1 ... 6 9 3]\n",
      "Iteration:  70\n",
      "[6 5 1 ... 6 9 2] [6 5 1 ... 6 9 3]\n",
      "0.7852203389830509\n",
      "[6 5 1 ... 6 9 2] [6 5 1 ... 6 9 3]\n",
      "Iteration:  80\n",
      "[6 5 1 ... 6 9 2] [6 5 1 ... 6 9 3]\n",
      "0.7975084745762712\n",
      "[6 5 1 ... 6 9 2] [6 5 1 ... 6 9 3]\n",
      "Iteration:  90\n",
      "[6 5 1 ... 6 9 2] [6 5 1 ... 6 9 3]\n",
      "0.8072033898305084\n",
      "[6 5 1 ... 6 9 2] [6 5 1 ... 6 9 3]\n",
      "Iteration:  100\n",
      "[6 5 1 ... 6 9 2] [6 5 1 ... 6 9 3]\n",
      "0.8156440677966101\n",
      "[6 5 1 ... 6 9 2] [6 5 1 ... 6 9 3]\n",
      "Iteration:  110\n",
      "[6 5 1 ... 6 9 2] [6 5 1 ... 6 9 3]\n",
      "0.8231694915254237\n",
      "[6 5 1 ... 6 9 2] [6 5 1 ... 6 9 3]\n",
      "Iteration:  120\n",
      "[6 5 1 ... 6 9 2] [6 5 1 ... 6 9 3]\n",
      "0.8292542372881356\n",
      "[6 5 1 ... 6 9 2] [6 5 1 ... 6 9 3]\n",
      "Iteration:  130\n",
      "[6 5 1 ... 6 9 2] [6 5 1 ... 6 9 3]\n",
      "0.8345593220338983\n",
      "[6 5 1 ... 6 9 2] [6 5 1 ... 6 9 3]\n",
      "Iteration:  140\n",
      "[6 5 1 ... 6 9 2] [6 5 1 ... 6 9 3]\n",
      "0.8395084745762712\n",
      "[6 5 1 ... 6 9 2] [6 5 1 ... 6 9 3]\n",
      "Iteration:  150\n",
      "[6 5 1 ... 6 9 2] [6 5 1 ... 6 9 3]\n",
      "0.8436271186440678\n",
      "[6 5 1 ... 6 9 2] [6 5 1 ... 6 9 3]\n",
      "Iteration:  160\n",
      "[6 5 1 ... 6 9 2] [6 5 1 ... 6 9 3]\n",
      "0.8482372881355932\n",
      "[6 5 1 ... 6 9 2] [6 5 1 ... 6 9 3]\n",
      "Iteration:  170\n",
      "[6 5 1 ... 6 9 2] [6 5 1 ... 6 9 3]\n",
      "0.8518474576271187\n",
      "[6 5 1 ... 6 9 2] [6 5 1 ... 6 9 3]\n",
      "Iteration:  180\n",
      "[6 5 1 ... 6 9 2] [6 5 1 ... 6 9 3]\n",
      "0.855271186440678\n",
      "[6 5 1 ... 6 9 2] [6 5 1 ... 6 9 3]\n",
      "Iteration:  190\n",
      "[6 5 1 ... 6 9 2] [6 5 1 ... 6 9 3]\n",
      "0.8586440677966102\n",
      "[6 5 1 ... 6 9 2] [6 5 1 ... 6 9 3]\n",
      "Iteration:  200\n",
      "[6 5 1 ... 6 9 2] [6 5 1 ... 6 9 3]\n",
      "0.8613050847457627\n",
      "[6 5 1 ... 6 9 2] [6 5 1 ... 6 9 3]\n",
      "Iteration:  210\n",
      "[6 5 1 ... 6 9 2] [6 5 1 ... 6 9 3]\n",
      "0.8639152542372881\n",
      "[6 5 1 ... 6 9 2] [6 5 1 ... 6 9 3]\n",
      "Iteration:  220\n",
      "[6 5 1 ... 6 9 2] [6 5 1 ... 6 9 3]\n",
      "0.8664237288135593\n",
      "[6 5 1 ... 6 9 2] [6 5 1 ... 6 9 3]\n",
      "Iteration:  230\n",
      "[6 5 1 ... 6 9 2] [6 5 1 ... 6 9 3]\n",
      "0.8685423728813559\n",
      "[6 5 1 ... 6 9 2] [6 5 1 ... 6 9 3]\n",
      "Iteration:  240\n",
      "[6 5 1 ... 6 9 2] [6 5 1 ... 6 9 3]\n",
      "0.8704237288135593\n",
      "[6 5 1 ... 6 9 2] [6 5 1 ... 6 9 3]\n",
      "Iteration:  250\n",
      "[6 5 1 ... 6 9 2] [6 5 1 ... 6 9 3]\n",
      "0.8723389830508474\n",
      "[6 5 1 ... 6 9 2] [6 5 1 ... 6 9 3]\n",
      "Iteration:  260\n",
      "[6 5 1 ... 6 9 2] [6 5 1 ... 6 9 3]\n",
      "0.8740847457627119\n",
      "[6 5 1 ... 6 9 2] [6 5 1 ... 6 9 3]\n",
      "Iteration:  270\n",
      "[6 5 1 ... 6 9 2] [6 5 1 ... 6 9 3]\n",
      "0.876\n",
      "[6 5 1 ... 6 9 2] [6 5 1 ... 6 9 3]\n",
      "Iteration:  280\n",
      "[6 5 1 ... 6 9 2] [6 5 1 ... 6 9 3]\n",
      "0.877593220338983\n",
      "[6 5 1 ... 6 9 2] [6 5 1 ... 6 9 3]\n",
      "Iteration:  290\n",
      "[6 5 1 ... 6 9 2] [6 5 1 ... 6 9 3]\n",
      "0.8796440677966102\n",
      "[6 5 1 ... 6 9 2] [6 5 1 ... 6 9 3]\n",
      "Iteration:  300\n",
      "[6 5 1 ... 6 9 2] [6 5 1 ... 6 9 3]\n",
      "0.8811864406779661\n",
      "[6 5 1 ... 6 9 2] [6 5 1 ... 6 9 3]\n",
      "Iteration:  310\n",
      "[6 5 1 ... 6 9 2] [6 5 1 ... 6 9 3]\n",
      "0.8826101694915254\n",
      "[6 5 1 ... 6 9 2] [6 5 1 ... 6 9 3]\n",
      "Iteration:  320\n",
      "[6 5 1 ... 6 9 2] [6 5 1 ... 6 9 3]\n",
      "0.8843898305084745\n",
      "[6 5 1 ... 6 9 2] [6 5 1 ... 6 9 3]\n",
      "Iteration:  330\n",
      "[6 5 1 ... 6 9 2] [6 5 1 ... 6 9 3]\n",
      "0.8859322033898305\n",
      "[6 5 1 ... 6 9 2] [6 5 1 ... 6 9 3]\n",
      "Iteration:  340\n",
      "[6 5 1 ... 6 9 2] [6 5 1 ... 6 9 3]\n",
      "0.8872542372881356\n",
      "[6 5 1 ... 6 9 2] [6 5 1 ... 6 9 3]\n",
      "Iteration:  350\n",
      "[6 5 1 ... 6 9 2] [6 5 1 ... 6 9 3]\n",
      "0.8884576271186441\n",
      "[6 5 1 ... 6 9 2] [6 5 1 ... 6 9 3]\n",
      "Iteration:  360\n",
      "[6 5 1 ... 6 9 2] [6 5 1 ... 6 9 3]\n",
      "0.8895593220338983\n",
      "[6 5 1 ... 6 9 2] [6 5 1 ... 6 9 3]\n",
      "Iteration:  370\n",
      "[6 5 1 ... 6 9 2] [6 5 1 ... 6 9 3]\n",
      "0.8905762711864407\n",
      "[6 5 1 ... 6 9 2] [6 5 1 ... 6 9 3]\n",
      "Iteration:  380\n",
      "[6 5 1 ... 6 9 2] [6 5 1 ... 6 9 3]\n",
      "0.8919491525423728\n",
      "[6 5 1 ... 6 9 2] [6 5 1 ... 6 9 3]\n",
      "Iteration:  390\n",
      "[6 5 1 ... 6 9 2] [6 5 1 ... 6 9 3]\n",
      "0.8928135593220339\n",
      "[6 5 1 ... 6 9 2] [6 5 1 ... 6 9 3]\n",
      "Iteration:  400\n",
      "[6 5 1 ... 6 9 2] [6 5 1 ... 6 9 3]\n",
      "0.8940338983050847\n",
      "[6 5 1 ... 6 9 2] [6 5 1 ... 6 9 3]\n",
      "Iteration:  410\n",
      "[6 5 1 ... 6 9 2] [6 5 1 ... 6 9 3]\n",
      "0.8949152542372881\n",
      "[6 5 1 ... 6 9 2] [6 5 1 ... 6 9 3]\n",
      "Iteration:  420\n",
      "[6 5 1 ... 6 9 2] [6 5 1 ... 6 9 3]\n",
      "0.8960508474576271\n",
      "[6 5 1 ... 6 9 2] [6 5 1 ... 6 9 3]\n",
      "Iteration:  430\n",
      "[6 5 1 ... 6 9 3] [6 5 1 ... 6 9 3]\n",
      "0.8969152542372881\n",
      "[6 5 1 ... 6 9 3] [6 5 1 ... 6 9 3]\n",
      "Iteration:  440\n",
      "[6 5 1 ... 6 9 3] [6 5 1 ... 6 9 3]\n",
      "0.8979830508474577\n",
      "[6 5 1 ... 6 9 3] [6 5 1 ... 6 9 3]\n",
      "Iteration:  450\n",
      "[6 5 1 ... 6 9 3] [6 5 1 ... 6 9 3]\n",
      "0.8990847457627119\n",
      "[6 5 1 ... 6 9 3] [6 5 1 ... 6 9 3]\n",
      "Iteration:  460\n",
      "[6 5 1 ... 6 9 3] [6 5 1 ... 6 9 3]\n",
      "0.8998644067796611\n",
      "[6 5 1 ... 6 9 3] [6 5 1 ... 6 9 3]\n",
      "Iteration:  470\n",
      "[6 5 1 ... 6 9 3] [6 5 1 ... 6 9 3]\n",
      "0.9008135593220339\n",
      "[6 5 1 ... 6 9 3] [6 5 1 ... 6 9 3]\n",
      "Iteration:  480\n",
      "[6 5 1 ... 6 9 3] [6 5 1 ... 6 9 3]\n",
      "0.9016610169491526\n",
      "[6 5 1 ... 6 9 3] [6 5 1 ... 6 9 3]\n",
      "Iteration:  490\n",
      "[6 5 1 ... 6 9 3] [6 5 1 ... 6 9 3]\n",
      "0.9023389830508475\n",
      "[6 5 1 ... 6 9 3] [6 5 1 ... 6 9 3]\n"
     ]
    }
   ],
   "source": [
    "W1, b1, W2, b2, acc1 = gradient_descent_wm(X_train, Y_train, 0.1, 0.9, 500)"
   ]
  },
  {
   "cell_type": "code",
   "execution_count": 33,
   "metadata": {},
   "outputs": [
    {
     "name": "stdout",
     "output_type": "stream",
     "text": [
      "Iteration:  0\n",
      "[2 4 7 ... 2 7 7] [6 5 1 ... 6 9 3]\n",
      "0.11693220338983051\n",
      "[2 4 7 ... 2 7 7] [6 5 1 ... 6 9 3]\n",
      "Iteration:  10\n",
      "[6 5 0 ... 6 9 8] [6 5 1 ... 6 9 3]\n",
      "0.4618983050847458\n",
      "[6 5 0 ... 6 9 8] [6 5 1 ... 6 9 3]\n",
      "Iteration:  20\n",
      "[6 5 0 ... 6 9 8] [6 5 1 ... 6 9 3]\n",
      "0.590457627118644\n",
      "[6 5 0 ... 6 9 8] [6 5 1 ... 6 9 3]\n",
      "Iteration:  30\n",
      "[6 5 0 ... 6 9 2] [6 5 1 ... 6 9 3]\n",
      "0.6536610169491526\n",
      "[6 5 0 ... 6 9 2] [6 5 1 ... 6 9 3]\n",
      "Iteration:  40\n",
      "[6 5 1 ... 6 9 2] [6 5 1 ... 6 9 3]\n",
      "0.693864406779661\n",
      "[6 5 1 ... 6 9 2] [6 5 1 ... 6 9 3]\n",
      "Iteration:  50\n",
      "[6 5 1 ... 6 9 2] [6 5 1 ... 6 9 3]\n",
      "0.7245084745762712\n",
      "[6 5 1 ... 6 9 2] [6 5 1 ... 6 9 3]\n",
      "Iteration:  60\n",
      "[6 5 1 ... 6 9 2] [6 5 1 ... 6 9 3]\n",
      "0.748406779661017\n",
      "[6 5 1 ... 6 9 2] [6 5 1 ... 6 9 3]\n",
      "Iteration:  70\n",
      "[6 5 1 ... 6 9 2] [6 5 1 ... 6 9 3]\n",
      "0.7676271186440679\n",
      "[6 5 1 ... 6 9 2] [6 5 1 ... 6 9 3]\n",
      "Iteration:  80\n",
      "[6 5 1 ... 6 9 2] [6 5 1 ... 6 9 3]\n",
      "0.7833050847457627\n",
      "[6 5 1 ... 6 9 2] [6 5 1 ... 6 9 3]\n",
      "Iteration:  90\n",
      "[6 5 1 ... 6 9 2] [6 5 1 ... 6 9 3]\n",
      "0.7956271186440678\n",
      "[6 5 1 ... 6 9 2] [6 5 1 ... 6 9 3]\n",
      "Iteration:  100\n",
      "[6 5 1 ... 6 9 2] [6 5 1 ... 6 9 3]\n",
      "0.8056610169491526\n",
      "[6 5 1 ... 6 9 2] [6 5 1 ... 6 9 3]\n",
      "Iteration:  110\n",
      "[6 5 1 ... 6 9 2] [6 5 1 ... 6 9 3]\n",
      "0.8135762711864407\n",
      "[6 5 1 ... 6 9 2] [6 5 1 ... 6 9 3]\n",
      "Iteration:  120\n",
      "[6 5 1 ... 6 9 2] [6 5 1 ... 6 9 3]\n",
      "0.8212372881355933\n",
      "[6 5 1 ... 6 9 2] [6 5 1 ... 6 9 3]\n",
      "Iteration:  130\n",
      "[6 5 1 ... 6 9 2] [6 5 1 ... 6 9 3]\n",
      "0.8277457627118644\n",
      "[6 5 1 ... 6 9 2] [6 5 1 ... 6 9 3]\n",
      "Iteration:  140\n",
      "[6 5 1 ... 6 9 2] [6 5 1 ... 6 9 3]\n",
      "0.8336779661016949\n",
      "[6 5 1 ... 6 9 2] [6 5 1 ... 6 9 3]\n",
      "Iteration:  150\n",
      "[6 5 1 ... 6 9 2] [6 5 1 ... 6 9 3]\n",
      "0.8385254237288136\n",
      "[6 5 1 ... 6 9 2] [6 5 1 ... 6 9 3]\n",
      "Iteration:  160\n",
      "[6 5 1 ... 6 9 2] [6 5 1 ... 6 9 3]\n",
      "0.8431864406779661\n",
      "[6 5 1 ... 6 9 2] [6 5 1 ... 6 9 3]\n",
      "Iteration:  170\n",
      "[6 5 1 ... 6 9 2] [6 5 1 ... 6 9 3]\n",
      "0.8471355932203389\n",
      "[6 5 1 ... 6 9 2] [6 5 1 ... 6 9 3]\n",
      "Iteration:  180\n",
      "[6 5 1 ... 6 9 2] [6 5 1 ... 6 9 3]\n",
      "0.8510169491525423\n",
      "[6 5 1 ... 6 9 2] [6 5 1 ... 6 9 3]\n",
      "Iteration:  190\n",
      "[6 5 1 ... 6 9 2] [6 5 1 ... 6 9 3]\n",
      "0.854271186440678\n",
      "[6 5 1 ... 6 9 2] [6 5 1 ... 6 9 3]\n",
      "Iteration:  200\n",
      "[6 5 1 ... 6 9 2] [6 5 1 ... 6 9 3]\n",
      "0.8577118644067797\n",
      "[6 5 1 ... 6 9 2] [6 5 1 ... 6 9 3]\n",
      "Iteration:  210\n",
      "[6 5 1 ... 6 9 2] [6 5 1 ... 6 9 3]\n",
      "0.8608305084745763\n",
      "[6 5 1 ... 6 9 2] [6 5 1 ... 6 9 3]\n",
      "Iteration:  220\n",
      "[6 5 1 ... 6 9 2] [6 5 1 ... 6 9 3]\n",
      "0.8636610169491525\n",
      "[6 5 1 ... 6 9 2] [6 5 1 ... 6 9 3]\n",
      "Iteration:  230\n",
      "[6 5 1 ... 6 9 2] [6 5 1 ... 6 9 3]\n",
      "0.866135593220339\n",
      "[6 5 1 ... 6 9 2] [6 5 1 ... 6 9 3]\n",
      "Iteration:  240\n",
      "[6 5 1 ... 6 9 2] [6 5 1 ... 6 9 3]\n",
      "0.8681016949152542\n",
      "[6 5 1 ... 6 9 2] [6 5 1 ... 6 9 3]\n",
      "Iteration:  250\n",
      "[6 5 1 ... 6 9 2] [6 5 1 ... 6 9 3]\n",
      "0.870135593220339\n",
      "[6 5 1 ... 6 9 2] [6 5 1 ... 6 9 3]\n",
      "Iteration:  260\n",
      "[6 5 1 ... 6 9 2] [6 5 1 ... 6 9 3]\n",
      "0.8724237288135593\n",
      "[6 5 1 ... 6 9 2] [6 5 1 ... 6 9 3]\n",
      "Iteration:  270\n",
      "[6 5 1 ... 6 9 2] [6 5 1 ... 6 9 3]\n",
      "0.8747457627118644\n",
      "[6 5 1 ... 6 9 2] [6 5 1 ... 6 9 3]\n",
      "Iteration:  280\n",
      "[6 5 1 ... 6 9 2] [6 5 1 ... 6 9 3]\n",
      "0.8763728813559322\n",
      "[6 5 1 ... 6 9 2] [6 5 1 ... 6 9 3]\n",
      "Iteration:  290\n",
      "[6 5 1 ... 6 9 2] [6 5 1 ... 6 9 3]\n",
      "0.8780169491525424\n",
      "[6 5 1 ... 6 9 2] [6 5 1 ... 6 9 3]\n",
      "Iteration:  300\n",
      "[6 5 1 ... 6 9 2] [6 5 1 ... 6 9 3]\n",
      "0.8799661016949153\n",
      "[6 5 1 ... 6 9 2] [6 5 1 ... 6 9 3]\n",
      "Iteration:  310\n",
      "[6 5 1 ... 6 9 2] [6 5 1 ... 6 9 3]\n",
      "0.8816271186440678\n",
      "[6 5 1 ... 6 9 2] [6 5 1 ... 6 9 3]\n",
      "Iteration:  320\n",
      "[6 5 1 ... 6 9 2] [6 5 1 ... 6 9 3]\n",
      "0.8831525423728813\n",
      "[6 5 1 ... 6 9 2] [6 5 1 ... 6 9 3]\n",
      "Iteration:  330\n",
      "[6 5 1 ... 6 9 2] [6 5 1 ... 6 9 3]\n",
      "0.8846101694915254\n",
      "[6 5 1 ... 6 9 2] [6 5 1 ... 6 9 3]\n",
      "Iteration:  340\n",
      "[6 5 1 ... 6 9 2] [6 5 1 ... 6 9 3]\n",
      "0.8859322033898305\n",
      "[6 5 1 ... 6 9 2] [6 5 1 ... 6 9 3]\n",
      "Iteration:  350\n",
      "[6 5 1 ... 6 9 2] [6 5 1 ... 6 9 3]\n",
      "0.8871016949152543\n",
      "[6 5 1 ... 6 9 2] [6 5 1 ... 6 9 3]\n",
      "Iteration:  360\n",
      "[6 5 1 ... 6 9 2] [6 5 1 ... 6 9 3]\n",
      "0.8884915254237288\n",
      "[6 5 1 ... 6 9 2] [6 5 1 ... 6 9 3]\n",
      "Iteration:  370\n",
      "[6 5 1 ... 6 9 2] [6 5 1 ... 6 9 3]\n",
      "0.889864406779661\n",
      "[6 5 1 ... 6 9 2] [6 5 1 ... 6 9 3]\n",
      "Iteration:  380\n",
      "[6 5 1 ... 6 9 2] [6 5 1 ... 6 9 3]\n",
      "0.8909661016949153\n",
      "[6 5 1 ... 6 9 2] [6 5 1 ... 6 9 3]\n",
      "Iteration:  390\n",
      "[6 5 1 ... 6 9 2] [6 5 1 ... 6 9 3]\n",
      "0.8918474576271186\n",
      "[6 5 1 ... 6 9 2] [6 5 1 ... 6 9 3]\n",
      "Iteration:  400\n",
      "[6 5 1 ... 6 9 2] [6 5 1 ... 6 9 3]\n",
      "0.8930169491525424\n",
      "[6 5 1 ... 6 9 2] [6 5 1 ... 6 9 3]\n",
      "Iteration:  410\n",
      "[6 5 1 ... 6 9 2] [6 5 1 ... 6 9 3]\n",
      "0.8941186440677966\n",
      "[6 5 1 ... 6 9 2] [6 5 1 ... 6 9 3]\n",
      "Iteration:  420\n",
      "[6 5 1 ... 6 9 2] [6 5 1 ... 6 9 3]\n",
      "0.8951864406779662\n",
      "[6 5 1 ... 6 9 2] [6 5 1 ... 6 9 3]\n",
      "Iteration:  430\n",
      "[6 5 1 ... 6 9 2] [6 5 1 ... 6 9 3]\n",
      "0.8962372881355932\n",
      "[6 5 1 ... 6 9 2] [6 5 1 ... 6 9 3]\n",
      "Iteration:  440\n",
      "[6 5 1 ... 6 9 2] [6 5 1 ... 6 9 3]\n",
      "0.8970169491525424\n",
      "[6 5 1 ... 6 9 2] [6 5 1 ... 6 9 3]\n",
      "Iteration:  450\n",
      "[6 5 1 ... 6 9 2] [6 5 1 ... 6 9 3]\n",
      "0.8978305084745762\n",
      "[6 5 1 ... 6 9 2] [6 5 1 ... 6 9 3]\n",
      "Iteration:  460\n",
      "[6 5 1 ... 6 9 2] [6 5 1 ... 6 9 3]\n",
      "0.898728813559322\n",
      "[6 5 1 ... 6 9 2] [6 5 1 ... 6 9 3]\n",
      "Iteration:  470\n",
      "[6 5 1 ... 6 9 2] [6 5 1 ... 6 9 3]\n",
      "0.8997457627118645\n",
      "[6 5 1 ... 6 9 2] [6 5 1 ... 6 9 3]\n",
      "Iteration:  480\n",
      "[6 5 1 ... 6 9 2] [6 5 1 ... 6 9 3]\n",
      "0.9005254237288136\n",
      "[6 5 1 ... 6 9 2] [6 5 1 ... 6 9 3]\n",
      "Iteration:  490\n",
      "[6 5 1 ... 6 9 2] [6 5 1 ... 6 9 3]\n",
      "0.9012203389830509\n",
      "[6 5 1 ... 6 9 2] [6 5 1 ... 6 9 3]\n"
     ]
    }
   ],
   "source": [
    "W12, b12, W22, b22, acc2 = gradient_descent(X_train, Y_train, 0.1, 500)"
   ]
  },
  {
   "cell_type": "code",
   "execution_count": 37,
   "metadata": {},
   "outputs": [
    {
     "data": {
      "text/plain": [
       "<matplotlib.legend.Legend at 0x27454936dd0>"
      ]
     },
     "execution_count": 37,
     "metadata": {},
     "output_type": "execute_result"
    },
    {
     "data": {
      "image/png": "[encoded data removed]",
      "text/plain": [
       "<Figure size 640x480 with 1 Axes>"
      ]
     },
     "metadata": {},
     "output_type": "display_data"
    }
   ],
   "source": [
    "plt.grid(True)\n",
    "plt.plot(range(50), acc1)\n",
    "plt.plot(range(50), acc2)\n",
    "plt.xlabel('epochs')\n",
    "plt.ylabel('accuracy')\n",
    "plt.title('GD & GDw/momentum optimization')\n",
    "plt.legend(['GDw/Momen.', 'GD'])"
   ]
  },
  {
   "cell_type": "markdown",
   "metadata": {
    "papermill": {
     "duration": 0.03222,
     "end_time": "2020-11-24T15:34:33.980634",
     "exception": false,
     "start_time": "2020-11-24T15:34:33.948414",
     "status": "completed"
    },
    "tags": []
   },
   "source": [
    "~85% accuracy on training set."
   ]
  },
  {
   "cell_type": "code",
   "execution_count": 7,
   "metadata": {
    "execution": {
     "iopub.execute_input": "2020-11-24T15:34:34.058947Z",
     "iopub.status.busy": "2020-11-24T15:34:34.058192Z",
     "iopub.status.idle": "2020-11-24T15:34:34.061542Z",
     "shell.execute_reply": "2020-11-24T15:34:34.060921Z"
    },
    "papermill": {
     "duration": 0.048197,
     "end_time": "2020-11-24T15:34:34.061656",
     "exception": false,
     "start_time": "2020-11-24T15:34:34.013459",
     "status": "completed"
    },
    "tags": []
   },
   "outputs": [],
   "source": [
    "def make_predictions(X, W1, b1, W2, b2):\n",
    "    _, _, _, A2 = forward_prop(W1, b1, W2, b2, X)\n",
    "    predictions = get_predictions(A2)\n",
    "    return predictions\n",
    "\n",
    "def test_prediction(index, W1, b1, W2, b2):\n",
    "    current_image = X_train[:, index, None]\n",
    "    prediction = make_predictions(X_train[:, index, None], W1, b1, W2, b2)\n",
    "    label = Y_train[index]\n",
    "    print(\"Prediction: \", prediction)\n",
    "    print(\"Label: \", label)\n",
    "    \n",
    "    current_image = current_image.reshape((28, 28)) * 255\n",
    "    plt.gray()\n",
    "    plt.imshow(current_image, interpolation='nearest')\n",
    "    plt.show()"
   ]
  },
  {
   "cell_type": "code",
   "execution_count": 39,
   "metadata": {
    "execution": {
     "iopub.execute_input": "2020-11-24T15:34:34.198764Z",
     "iopub.status.busy": "2020-11-24T15:34:34.197926Z",
     "iopub.status.idle": "2020-11-24T15:34:34.858256Z",
     "shell.execute_reply": "2020-11-24T15:34:34.857536Z"
    },
    "papermill": {
     "duration": 0.699008,
     "end_time": "2020-11-24T15:34:34.858375",
     "exception": false,
     "start_time": "2020-11-24T15:34:34.159367",
     "status": "completed"
    },
    "scrolled": false,
    "tags": []
   },
   "outputs": [
    {
     "name": "stdout",
     "output_type": "stream",
     "text": [
      "Prediction:  [6]\n",
      "Label:  6\n"
     ]
    },
    {
     "data": {
      "image/png": "[encoded data removed]",
      "text/plain": [
       "<Figure size 640x480 with 1 Axes>"
      ]
     },
     "metadata": {},
     "output_type": "display_data"
    },
    {
     "name": "stdout",
     "output_type": "stream",
     "text": [
      "Prediction:  [5]\n",
      "Label:  5\n"
     ]
    },
    {
     "data": {
      "image/png": "[encoded data removed]",
      "text/plain": [
       "<Figure size 640x480 with 1 Axes>"
      ]
     },
     "metadata": {},
     "output_type": "display_data"
    },
    {
     "name": "stdout",
     "output_type": "stream",
     "text": [
      "Prediction:  [1]\n",
      "Label:  1\n"
     ]
    },
    {
     "data": {
      "image/png": "[encoded data removed]",
      "text/plain": [
       "<Figure size 640x480 with 1 Axes>"
      ]
     },
     "metadata": {},
     "output_type": "display_data"
    },
    {
     "name": "stdout",
     "output_type": "stream",
     "text": [
      "Prediction:  [8]\n",
      "Label:  8\n"
     ]
    },
    {
     "data": {
      "image/png": "[encoded data removed]",
      "text/plain": [
       "<Figure size 640x480 with 1 Axes>"
      ]
     },
     "metadata": {},
     "output_type": "display_data"
    }
   ],
   "source": [
    "test_prediction(0, W1, b1, W2, b2)\n",
    "test_prediction(1, W1, b1, W2, b2)\n",
    "test_prediction(2, W1, b1, W2, b2)\n",
    "test_prediction(3, W1, b1, W2, b2)"
   ]
  },
  {
   "cell_type": "code",
   "execution_count": null,
   "metadata": {},
   "outputs": [],
   "source": []
  }
 ],
 "metadata": {
  "kernelspec": {
   "display_name": "Python 3 (ipykernel)",
   "language": "python",
   "name": "python3"
  },
  "language_info": {
   "codemirror_mode": {
    "name": "ipython",
    "version": 3
   },
   "file_extension": ".py",
   "mimetype": "text/x-python",
   "name": "python",
   "nbconvert_exporter": "python",
   "pygments_lexer": "ipython3",
   "version": "3.10.6"
  },
  "papermill": {
   "duration": 55.320944,
   "end_time": "2020-11-24T15:34:35.258832",
   "environment_variables": {},
   "exception": null,
   "input_path": "__notebook__.ipynb",
   "output_path": "__notebook__.ipynb",
   "parameters": {},
   "start_time": "2020-11-24T15:33:39.937888",
   "version": "2.1.0"
  }
 },
 "nbformat": 4,
 "nbformat_minor": 4
}
